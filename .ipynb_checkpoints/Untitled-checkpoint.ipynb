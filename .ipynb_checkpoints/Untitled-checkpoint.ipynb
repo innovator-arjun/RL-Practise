{
 "cells": [
  {
   "cell_type": "code",
   "execution_count": null,
   "metadata": {},
   "outputs": [],
   "source": [
    "import submitit\n",
    "\n",
    "def add(a, b)\n",
    "    return a + b\n",
    "\n",
    "# executor is the submission interface (logs are dumped in the folder)\n",
    "executor = submitit.AutoExecutor(folder=log_test)\n",
    "# set timeout in min, and partition for running the job\n",
    "executor.update_parameters(timeout_min=1, slurm_partition=dev)\n",
    "job = executor.submit(add, 5, 7)  # will compute add(5, 7)\n",
    "print(job.job_id)  # ID of your job\n",
    "\n",
    "output = job.result()  # waits for completion and returns output\n",
    "assert output == 12  # 5 + 7 = 12...  your addition was computed in the cluster"
   ]
  }
 ],
 "metadata": {
  "kernelspec": {
   "display_name": "Python 3",
   "language": "python",
   "name": "python3"
  },
  "language_info": {
   "codemirror_mode": {
    "name": "ipython",
    "version": 3
   },
   "file_extension": ".py",
   "mimetype": "text/x-python",
   "name": "python",
   "nbconvert_exporter": "python",
   "pygments_lexer": "ipython3",
   "version": "3.8.5"
  }
 },
 "nbformat": 4,
 "nbformat_minor": 4
}
